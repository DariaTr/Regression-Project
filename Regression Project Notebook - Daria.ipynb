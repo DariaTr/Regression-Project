{
 "cells": [
  {
   "cell_type": "markdown",
   "metadata": {},
   "source": [
    "# Regression Project"
   ]
  },
  {
   "cell_type": "markdown",
   "metadata": {},
   "source": [
    "The main goal of the project: pick a regression model and find the best\n",
    "RMSE given train data (X and y) and given the X of the test data. The y of the test data is not given. "
   ]
  },
  {
   "cell_type": "code",
   "execution_count": 76,
   "metadata": {},
   "outputs": [],
   "source": [
    "# Imports:\n",
    "import pandas as pd\n",
    "import seaborn as sns # Correlation matrix"
   ]
  },
  {
   "cell_type": "code",
   "execution_count": 24,
   "metadata": {},
   "outputs": [
    {
     "data": {
      "text/html": [
       "<div>\n",
       "<style scoped>\n",
       "    .dataframe tbody tr th:only-of-type {\n",
       "        vertical-align: middle;\n",
       "    }\n",
       "\n",
       "    .dataframe tbody tr th {\n",
       "        vertical-align: top;\n",
       "    }\n",
       "\n",
       "    .dataframe thead th {\n",
       "        text-align: right;\n",
       "    }\n",
       "</style>\n",
       "<table border=\"1\" class=\"dataframe\">\n",
       "  <thead>\n",
       "    <tr style=\"text-align: right;\">\n",
       "      <th></th>\n",
       "      <th>Unnamed: 0</th>\n",
       "      <th>Unnamed: 0.1</th>\n",
       "      <th>Age</th>\n",
       "      <th>Gender</th>\n",
       "      <th>Education Level</th>\n",
       "      <th>Job Title</th>\n",
       "      <th>Years of Experience</th>\n",
       "      <th>Country</th>\n",
       "      <th>Race</th>\n",
       "      <th>height</th>\n",
       "      <th>weight</th>\n",
       "      <th>id</th>\n",
       "      <th>professionalism</th>\n",
       "    </tr>\n",
       "  </thead>\n",
       "  <tbody>\n",
       "    <tr>\n",
       "      <th>0</th>\n",
       "      <td>2477</td>\n",
       "      <td>2477</td>\n",
       "      <td>52.0</td>\n",
       "      <td>M</td>\n",
       "      <td>bachelor's|degr</td>\n",
       "      <td>back|end|develope</td>\n",
       "      <td>24.0</td>\n",
       "      <td>australi</td>\n",
       "      <td>Asian</td>\n",
       "      <td>1.800316</td>\n",
       "      <td>95.021957</td>\n",
       "      <td>2477</td>\n",
       "      <td>1150.0</td>\n",
       "    </tr>\n",
       "    <tr>\n",
       "      <th>1</th>\n",
       "      <td>76</td>\n",
       "      <td>76</td>\n",
       "      <td>52.0</td>\n",
       "      <td>F</td>\n",
       "      <td>bachelor</td>\n",
       "      <td>operations|manage</td>\n",
       "      <td>23.0</td>\n",
       "      <td>us</td>\n",
       "      <td>White</td>\n",
       "      <td>2.451414</td>\n",
       "      <td>87.456039</td>\n",
       "      <td>76</td>\n",
       "      <td>1100.0</td>\n",
       "    </tr>\n",
       "    <tr>\n",
       "      <th>2</th>\n",
       "      <td>64</td>\n",
       "      <td>64</td>\n",
       "      <td>27.0</td>\n",
       "      <td>M</td>\n",
       "      <td>bachelor</td>\n",
       "      <td>junior|accountan</td>\n",
       "      <td>2.0</td>\n",
       "      <td>australi</td>\n",
       "      <td>Australian</td>\n",
       "      <td>1.917509</td>\n",
       "      <td>56.997108</td>\n",
       "      <td>64</td>\n",
       "      <td>26.0</td>\n",
       "    </tr>\n",
       "    <tr>\n",
       "      <th>3</th>\n",
       "      <td>924</td>\n",
       "      <td>924</td>\n",
       "      <td>32.0</td>\n",
       "      <td>M</td>\n",
       "      <td>bachelor</td>\n",
       "      <td>data|analys</td>\n",
       "      <td>11.0</td>\n",
       "      <td>u</td>\n",
       "      <td>Welsh</td>\n",
       "      <td>2.160562</td>\n",
       "      <td>61.403169</td>\n",
       "      <td>924</td>\n",
       "      <td>279.0</td>\n",
       "    </tr>\n",
       "  </tbody>\n",
       "</table>\n",
       "</div>"
      ],
      "text/plain": [
       "   Unnamed: 0  Unnamed: 0.1   Age Gender  Education Level          Job Title  \\\n",
       "0        2477          2477  52.0      M  bachelor's|degr  back|end|develope   \n",
       "1          76            76  52.0      F         bachelor  operations|manage   \n",
       "2          64            64  27.0      M         bachelor   junior|accountan   \n",
       "3         924           924  32.0      M         bachelor        data|analys   \n",
       "\n",
       "   Years of Experience   Country        Race    height     weight    id  \\\n",
       "0                 24.0  australi       Asian  1.800316  95.021957  2477   \n",
       "1                 23.0        us       White  2.451414  87.456039    76   \n",
       "2                  2.0  australi  Australian  1.917509  56.997108    64   \n",
       "3                 11.0         u       Welsh  2.160562  61.403169   924   \n",
       "\n",
       "   professionalism  \n",
       "0           1150.0  \n",
       "1           1100.0  \n",
       "2             26.0  \n",
       "3            279.0  "
      ]
     },
     "execution_count": 24,
     "metadata": {},
     "output_type": "execute_result"
    }
   ],
   "source": [
    "X_train = pd.read_csv(\"X.csv\")\n",
    "X_train.head(4)"
   ]
  },
  {
   "cell_type": "code",
   "execution_count": 25,
   "metadata": {},
   "outputs": [
    {
     "data": {
      "text/plain": [
       "(5363, 13)"
      ]
     },
     "execution_count": 25,
     "metadata": {},
     "output_type": "execute_result"
    }
   ],
   "source": [
    "X_train.shape"
   ]
  },
  {
   "cell_type": "markdown",
   "metadata": {},
   "source": [
    "Check if the columns are duplicates"
   ]
  },
  {
   "cell_type": "code",
   "execution_count": 26,
   "metadata": {},
   "outputs": [
    {
     "data": {
      "text/plain": [
       "Index(['Unnamed: 0', 'Unnamed: 0.1', 'Age', 'Gender', 'Education Level',\n",
       "       'Job Title', 'Years of Experience', 'Country', 'Race', 'height',\n",
       "       'weight', 'id', 'professionalism'],\n",
       "      dtype='object')"
      ]
     },
     "execution_count": 26,
     "metadata": {},
     "output_type": "execute_result"
    }
   ],
   "source": [
    "X_train.columns"
   ]
  },
  {
   "cell_type": "code",
   "execution_count": 27,
   "metadata": {},
   "outputs": [],
   "source": [
    "# Check if 'Unnamed: 0', 'Unnamed: 0.1' and 'id' are duplicates\n",
    "are_columns_duplicates_1_2 = (X_train['Unnamed: 0'] == X_train['Unnamed: 0.1']).all()\n",
    "are_columns_duplicates_1_id = (X_train['Unnamed: 0'] == X_train['id']).all()\n",
    "are_columns_duplicates_2_id = (X_train['Unnamed: 0.1'] == X_train['id']).all()\n",
    "\n",
    "# Drop 'Unnamed: 0' and 'Unnamed: 0.1' if they are duplicates of 'id'\n",
    "if are_columns_duplicates_1_2 and are_columns_duplicates_1_id and are_columns_duplicates_2_id:\n",
    "    X_train.drop(['Unnamed: 0', 'Unnamed: 0.1'], axis=1, inplace=True)\n"
   ]
  },
  {
   "cell_type": "code",
   "execution_count": 28,
   "metadata": {},
   "outputs": [
    {
     "data": {
      "text/html": [
       "<div>\n",
       "<style scoped>\n",
       "    .dataframe tbody tr th:only-of-type {\n",
       "        vertical-align: middle;\n",
       "    }\n",
       "\n",
       "    .dataframe tbody tr th {\n",
       "        vertical-align: top;\n",
       "    }\n",
       "\n",
       "    .dataframe thead th {\n",
       "        text-align: right;\n",
       "    }\n",
       "</style>\n",
       "<table border=\"1\" class=\"dataframe\">\n",
       "  <thead>\n",
       "    <tr style=\"text-align: right;\">\n",
       "      <th></th>\n",
       "      <th>Age</th>\n",
       "      <th>Gender</th>\n",
       "      <th>Education Level</th>\n",
       "      <th>Job Title</th>\n",
       "      <th>Years of Experience</th>\n",
       "      <th>Country</th>\n",
       "      <th>Race</th>\n",
       "      <th>height</th>\n",
       "      <th>weight</th>\n",
       "      <th>id</th>\n",
       "      <th>professionalism</th>\n",
       "    </tr>\n",
       "  </thead>\n",
       "  <tbody>\n",
       "    <tr>\n",
       "      <th>0</th>\n",
       "      <td>52.0</td>\n",
       "      <td>M</td>\n",
       "      <td>bachelor's|degr</td>\n",
       "      <td>back|end|develope</td>\n",
       "      <td>24.0</td>\n",
       "      <td>australi</td>\n",
       "      <td>Asian</td>\n",
       "      <td>1.800316</td>\n",
       "      <td>95.021957</td>\n",
       "      <td>2477</td>\n",
       "      <td>1150.0</td>\n",
       "    </tr>\n",
       "    <tr>\n",
       "      <th>1</th>\n",
       "      <td>52.0</td>\n",
       "      <td>F</td>\n",
       "      <td>bachelor</td>\n",
       "      <td>operations|manage</td>\n",
       "      <td>23.0</td>\n",
       "      <td>us</td>\n",
       "      <td>White</td>\n",
       "      <td>2.451414</td>\n",
       "      <td>87.456039</td>\n",
       "      <td>76</td>\n",
       "      <td>1100.0</td>\n",
       "    </tr>\n",
       "    <tr>\n",
       "      <th>2</th>\n",
       "      <td>27.0</td>\n",
       "      <td>M</td>\n",
       "      <td>bachelor</td>\n",
       "      <td>junior|accountan</td>\n",
       "      <td>2.0</td>\n",
       "      <td>australi</td>\n",
       "      <td>Australian</td>\n",
       "      <td>1.917509</td>\n",
       "      <td>56.997108</td>\n",
       "      <td>64</td>\n",
       "      <td>26.0</td>\n",
       "    </tr>\n",
       "    <tr>\n",
       "      <th>3</th>\n",
       "      <td>32.0</td>\n",
       "      <td>M</td>\n",
       "      <td>bachelor</td>\n",
       "      <td>data|analys</td>\n",
       "      <td>11.0</td>\n",
       "      <td>u</td>\n",
       "      <td>Welsh</td>\n",
       "      <td>2.160562</td>\n",
       "      <td>61.403169</td>\n",
       "      <td>924</td>\n",
       "      <td>279.0</td>\n",
       "    </tr>\n",
       "  </tbody>\n",
       "</table>\n",
       "</div>"
      ],
      "text/plain": [
       "    Age Gender  Education Level          Job Title  Years of Experience  \\\n",
       "0  52.0      M  bachelor's|degr  back|end|develope                 24.0   \n",
       "1  52.0      F         bachelor  operations|manage                 23.0   \n",
       "2  27.0      M         bachelor   junior|accountan                  2.0   \n",
       "3  32.0      M         bachelor        data|analys                 11.0   \n",
       "\n",
       "    Country        Race    height     weight    id  professionalism  \n",
       "0  australi       Asian  1.800316  95.021957  2477           1150.0  \n",
       "1        us       White  2.451414  87.456039    76           1100.0  \n",
       "2  australi  Australian  1.917509  56.997108    64             26.0  \n",
       "3         u       Welsh  2.160562  61.403169   924            279.0  "
      ]
     },
     "execution_count": 28,
     "metadata": {},
     "output_type": "execute_result"
    }
   ],
   "source": [
    "X_train.head(4)"
   ]
  },
  {
   "cell_type": "code",
   "execution_count": 29,
   "metadata": {},
   "outputs": [
    {
     "data": {
      "text/plain": [
       "(5363, 11)"
      ]
     },
     "execution_count": 29,
     "metadata": {},
     "output_type": "execute_result"
    }
   ],
   "source": [
    "X_train.shape  # changed from (5363, 13) to (5363, 11)"
   ]
  },
  {
   "cell_type": "code",
   "execution_count": 37,
   "metadata": {},
   "outputs": [
    {
     "name": "stdout",
     "output_type": "stream",
     "text": [
      "<class 'pandas.core.frame.DataFrame'>\n",
      "RangeIndex: 5363 entries, 0 to 5362\n",
      "Data columns (total 11 columns):\n",
      " #   Column               Non-Null Count  Dtype  \n",
      "---  ------               --------------  -----  \n",
      " 0   Age                  5359 non-null   float64\n",
      " 1   Gender               5359 non-null   object \n",
      " 2   Education Level      5360 non-null   object \n",
      " 3   Job Title            5361 non-null   object \n",
      " 4   Years of Experience  5360 non-null   float64\n",
      " 5   Country              5363 non-null   object \n",
      " 6   Race                 5363 non-null   object \n",
      " 7   height               5363 non-null   float64\n",
      " 8   weight               5361 non-null   float64\n",
      " 9   id                   5363 non-null   int64  \n",
      " 10  professionalism      5360 non-null   float64\n",
      "dtypes: float64(5), int64(1), object(5)\n",
      "memory usage: 461.0+ KB\n"
     ]
    }
   ],
   "source": [
    "# Get the info of each column\n",
    "X_train.info()"
   ]
  },
  {
   "cell_type": "code",
   "execution_count": 38,
   "metadata": {},
   "outputs": [
    {
     "name": "stdout",
     "output_type": "stream",
     "text": [
      "       Age Gender  Education Level         Job Title  Years of Experience  \\\n",
      "417    NaN    NaN         bachelor  software|enginee                120.0   \n",
      "467   28.0      M              NaN          develope                  9.0   \n",
      "1309   NaN    NaN              NaN               NaN                  NaN   \n",
      "2839   NaN    NaN           master       data|analys                120.0   \n",
      "3071  28.0      F  bachelor's|degr           social|                  NaN   \n",
      "4110   NaN    NaN              NaN               NaN                  NaN   \n",
      "\n",
      "                Country             Race    height      weight    id  \\\n",
      "417   RazShmuelykingdom  NayaCollegegeek  2.492683  200.000000     0   \n",
      "467                   u            White  2.481139   29.526878  2011   \n",
      "1309                  u            White  2.497256         NaN   172   \n",
      "2839  RazShmuelykingdom  NayaCollegegeek  2.480525  200.000000     1   \n",
      "3071                 us            White  1.510105   50.294254  5247   \n",
      "4110              canad            White  1.675847         NaN   260   \n",
      "\n",
      "      professionalism  \n",
      "417             160.0  \n",
      "467             189.0  \n",
      "1309              NaN  \n",
      "2839             84.0  \n",
      "3071              NaN  \n",
      "4110              NaN  \n"
     ]
    }
   ],
   "source": [
    "# Find rows where any cell has a null value\n",
    "rows_with_null = X_train[X_train.isna().any(axis=1)]\n",
    "\n",
    "print(rows_with_null)"
   ]
  },
  {
   "cell_type": "code",
   "execution_count": 39,
   "metadata": {},
   "outputs": [],
   "source": [
    "# Remove all rows with any missing values (as they are only 6 rows out of 5363 rows):\n",
    "X_train.dropna(inplace=True)"
   ]
  },
  {
   "cell_type": "code",
   "execution_count": 41,
   "metadata": {},
   "outputs": [
    {
     "data": {
      "text/plain": [
       "(5357, 11)"
      ]
     },
     "execution_count": 41,
     "metadata": {},
     "output_type": "execute_result"
    }
   ],
   "source": [
    "X_train.shape  # changed from (5363, 13) to (5357, 11)"
   ]
  },
  {
   "cell_type": "code",
   "execution_count": 52,
   "metadata": {},
   "outputs": [
    {
     "data": {
      "text/html": [
       "<div>\n",
       "<style scoped>\n",
       "    .dataframe tbody tr th:only-of-type {\n",
       "        vertical-align: middle;\n",
       "    }\n",
       "\n",
       "    .dataframe tbody tr th {\n",
       "        vertical-align: top;\n",
       "    }\n",
       "\n",
       "    .dataframe thead th {\n",
       "        text-align: right;\n",
       "    }\n",
       "</style>\n",
       "<table border=\"1\" class=\"dataframe\">\n",
       "  <thead>\n",
       "    <tr style=\"text-align: right;\">\n",
       "      <th></th>\n",
       "      <th>id</th>\n",
       "      <th>Salary</th>\n",
       "    </tr>\n",
       "  </thead>\n",
       "  <tbody>\n",
       "    <tr>\n",
       "      <th>0</th>\n",
       "      <td>2477</td>\n",
       "      <td>175966.0</td>\n",
       "    </tr>\n",
       "    <tr>\n",
       "      <th>1</th>\n",
       "      <td>76</td>\n",
       "      <td>160000.0</td>\n",
       "    </tr>\n",
       "    <tr>\n",
       "      <th>2</th>\n",
       "      <td>64</td>\n",
       "      <td>35000.0</td>\n",
       "    </tr>\n",
       "    <tr>\n",
       "      <th>3</th>\n",
       "      <td>924</td>\n",
       "      <td>195000.0</td>\n",
       "    </tr>\n",
       "  </tbody>\n",
       "</table>\n",
       "</div>"
      ],
      "text/plain": [
       "     id    Salary\n",
       "0  2477  175966.0\n",
       "1    76  160000.0\n",
       "2    64   35000.0\n",
       "3   924  195000.0"
      ]
     },
     "execution_count": 52,
     "metadata": {},
     "output_type": "execute_result"
    }
   ],
   "source": [
    "y_train = pd.read_csv(\"y.csv\")\n",
    "y_train.head(4)\n",
    "# print(y_train.shape)  # (5363, 2)"
   ]
  },
  {
   "cell_type": "code",
   "execution_count": 54,
   "metadata": {},
   "outputs": [
    {
     "name": "stdout",
     "output_type": "stream",
     "text": [
      "<class 'pandas.core.frame.DataFrame'>\n",
      "RangeIndex: 5363 entries, 0 to 5362\n",
      "Data columns (total 2 columns):\n",
      " #   Column  Non-Null Count  Dtype  \n",
      "---  ------  --------------  -----  \n",
      " 0   id      5363 non-null   int64  \n",
      " 1   Salary  5358 non-null   float64\n",
      "dtypes: float64(1), int64(1)\n",
      "memory usage: 83.9 KB\n"
     ]
    }
   ],
   "source": [
    "y_train.info()  # we have all ids, but 5 of them have null Salary value"
   ]
  },
  {
   "cell_type": "code",
   "execution_count": 55,
   "metadata": {},
   "outputs": [
    {
     "name": "stdout",
     "output_type": "stream",
     "text": [
      "        id  Salary\n",
      "1138  3136     NaN\n",
      "1309   172     NaN\n",
      "3071  5247     NaN\n",
      "4110   260     NaN\n",
      "5077  6455     NaN\n"
     ]
    }
   ],
   "source": [
    "rows_with_null_y = y_train[y_train.isna().any(axis=1)]\n",
    "print(rows_with_null_y)"
   ]
  },
  {
   "cell_type": "code",
   "execution_count": 57,
   "metadata": {},
   "outputs": [],
   "source": [
    "# Remove 5 rows with missing salary value:\n",
    "y_train.dropna(inplace=True)"
   ]
  },
  {
   "cell_type": "code",
   "execution_count": 58,
   "metadata": {},
   "outputs": [
    {
     "name": "stdout",
     "output_type": "stream",
     "text": [
      "(5355, 11) (5355, 2)\n"
     ]
    }
   ],
   "source": [
    "# Filter the data frames to only include 'id' values that are present in both:\n",
    "common_ids = set(X_train['id']) & set(y_train['id'])\n",
    "\n",
    "X_train = X_train[X_train['id'].isin(common_ids)]\n",
    "y_train = y_train[y_train['id'].isin(common_ids)] \n",
    "\n",
    "print(X_train.shape, y_train.shape)"
   ]
  },
  {
   "cell_type": "code",
   "execution_count": 62,
   "metadata": {
    "scrolled": true
   },
   "outputs": [
    {
     "name": "stdout",
     "output_type": "stream",
     "text": [
      "(1341, 13)\n"
     ]
    },
    {
     "data": {
      "text/html": [
       "<div>\n",
       "<style scoped>\n",
       "    .dataframe tbody tr th:only-of-type {\n",
       "        vertical-align: middle;\n",
       "    }\n",
       "\n",
       "    .dataframe tbody tr th {\n",
       "        vertical-align: top;\n",
       "    }\n",
       "\n",
       "    .dataframe thead th {\n",
       "        text-align: right;\n",
       "    }\n",
       "</style>\n",
       "<table border=\"1\" class=\"dataframe\">\n",
       "  <thead>\n",
       "    <tr style=\"text-align: right;\">\n",
       "      <th></th>\n",
       "      <th>Unnamed: 0</th>\n",
       "      <th>Unnamed: 0.1</th>\n",
       "      <th>Age</th>\n",
       "      <th>Gender</th>\n",
       "      <th>Education Level</th>\n",
       "      <th>Job Title</th>\n",
       "      <th>Years of Experience</th>\n",
       "      <th>Country</th>\n",
       "      <th>Race</th>\n",
       "      <th>height</th>\n",
       "      <th>weight</th>\n",
       "      <th>id</th>\n",
       "      <th>professionalism</th>\n",
       "    </tr>\n",
       "  </thead>\n",
       "  <tbody>\n",
       "    <tr>\n",
       "      <th>0</th>\n",
       "      <td>6480</td>\n",
       "      <td>6480</td>\n",
       "      <td>47.0</td>\n",
       "      <td>M</td>\n",
       "      <td>master's|degr</td>\n",
       "      <td>director|of|marketin</td>\n",
       "      <td>16.0</td>\n",
       "      <td>us</td>\n",
       "      <td>Hispanic</td>\n",
       "      <td>1.818297</td>\n",
       "      <td>88.182651</td>\n",
       "      <td>6480</td>\n",
       "      <td>675.0</td>\n",
       "    </tr>\n",
       "    <tr>\n",
       "      <th>1</th>\n",
       "      <td>5343</td>\n",
       "      <td>5343</td>\n",
       "      <td>29.0</td>\n",
       "      <td>F</td>\n",
       "      <td>bachelor's|degr</td>\n",
       "      <td>social|media|manage</td>\n",
       "      <td>4.0</td>\n",
       "      <td>us</td>\n",
       "      <td>African American</td>\n",
       "      <td>1.562833</td>\n",
       "      <td>59.760856</td>\n",
       "      <td>5343</td>\n",
       "      <td>81.0</td>\n",
       "    </tr>\n",
       "    <tr>\n",
       "      <th>2</th>\n",
       "      <td>2576</td>\n",
       "      <td>2576</td>\n",
       "      <td>29.0</td>\n",
       "      <td>M</td>\n",
       "      <td>high|scho</td>\n",
       "      <td>back|end|develope</td>\n",
       "      <td>5.0</td>\n",
       "      <td>us</td>\n",
       "      <td>African American</td>\n",
       "      <td>2.059395</td>\n",
       "      <td>46.765234</td>\n",
       "      <td>2576</td>\n",
       "      <td>108.0</td>\n",
       "    </tr>\n",
       "  </tbody>\n",
       "</table>\n",
       "</div>"
      ],
      "text/plain": [
       "   Unnamed: 0  Unnamed: 0.1   Age Gender  Education Level  \\\n",
       "0        6480          6480  47.0      M    master's|degr   \n",
       "1        5343          5343  29.0      F  bachelor's|degr   \n",
       "2        2576          2576  29.0      M        high|scho   \n",
       "\n",
       "              Job Title  Years of Experience Country              Race  \\\n",
       "0  director|of|marketin                 16.0      us          Hispanic   \n",
       "1   social|media|manage                  4.0      us  African American   \n",
       "2     back|end|develope                  5.0      us  African American   \n",
       "\n",
       "     height     weight    id  professionalism  \n",
       "0  1.818297  88.182651  6480            675.0  \n",
       "1  1.562833  59.760856  5343             81.0  \n",
       "2  2.059395  46.765234  2576            108.0  "
      ]
     },
     "execution_count": 62,
     "metadata": {},
     "output_type": "execute_result"
    }
   ],
   "source": [
    "X_test = pd.read_csv(\"X_test.csv\")\n",
    "print(X_test.shape)\n",
    "X_test.head(3)"
   ]
  },
  {
   "cell_type": "code",
   "execution_count": 63,
   "metadata": {},
   "outputs": [],
   "source": [
    "# Check if 'Unnamed: 0', 'Unnamed: 0.1' and 'id' are duplicates\n",
    "are_columns_duplicates_1_2 = (X_test['Unnamed: 0'] == X_test['Unnamed: 0.1']).all()\n",
    "are_columns_duplicates_1_id = (X_test['Unnamed: 0'] == X_test['id']).all()\n",
    "are_columns_duplicates_2_id = (X_test['Unnamed: 0.1'] == X_test['id']).all()\n",
    "\n",
    "# Drop 'Unnamed: 0' and 'Unnamed: 0.1' if they are duplicates of 'id'\n",
    "if are_columns_duplicates_1_2 and are_columns_duplicates_1_id and are_columns_duplicates_2_id:\n",
    "    X_test.drop(['Unnamed: 0', 'Unnamed: 0.1'], axis=1, inplace=True)\n"
   ]
  },
  {
   "cell_type": "code",
   "execution_count": 64,
   "metadata": {},
   "outputs": [
    {
     "name": "stdout",
     "output_type": "stream",
     "text": [
      "<class 'pandas.core.frame.DataFrame'>\n",
      "RangeIndex: 1341 entries, 0 to 1340\n",
      "Data columns (total 11 columns):\n",
      " #   Column               Non-Null Count  Dtype  \n",
      "---  ------               --------------  -----  \n",
      " 0   Age                  1341 non-null   float64\n",
      " 1   Gender               1341 non-null   object \n",
      " 2   Education Level      1341 non-null   object \n",
      " 3   Job Title            1341 non-null   object \n",
      " 4   Years of Experience  1341 non-null   float64\n",
      " 5   Country              1341 non-null   object \n",
      " 6   Race                 1341 non-null   object \n",
      " 7   height               1341 non-null   float64\n",
      " 8   weight               1341 non-null   float64\n",
      " 9   id                   1341 non-null   int64  \n",
      " 10  professionalism      1341 non-null   float64\n",
      "dtypes: float64(5), int64(1), object(5)\n",
      "memory usage: 115.4+ KB\n"
     ]
    }
   ],
   "source": [
    "X_test.shape  # changed from (1341, 13) to (1341, 11)\n",
    "X_test.info() # X test has no missing data"
   ]
  },
  {
   "cell_type": "code",
   "execution_count": 70,
   "metadata": {},
   "outputs": [],
   "source": [
    "# set(X_train['Gender'])\n",
    "# set(X_train['Education Level'])\n",
    "# set(X_train['Job Title'])\n",
    "# set(X_train['Country'])\n",
    "# set(X_train['Race']) "
   ]
  },
  {
   "cell_type": "code",
   "execution_count": 74,
   "metadata": {
    "scrolled": true
   },
   "outputs": [
    {
     "name": "stdout",
     "output_type": "stream",
     "text": [
      "Unique values in Gender:\n",
      "F, M, O\n",
      "--------------------------------------------------\n",
      "Unique values in Education Level:\n",
      "high|scho, p, bachelor's|degr, bachelor, master, master's|degr\n",
      "--------------------------------------------------\n",
      "Unique values in Job Title:\n",
      "juniour|hr|coordinato, sales|manage, product|manage, senior|scientis, senior|it|project|manage, senior|project|manage, strategy|consultan, junior|designe, senior|project|enginee, training|specialis, digital|marketing|specialis, office|manage, junior|business|development|associat, receptionis, technical|recruite, senior|human|resources|specialis, senior|software|develope, junior|web|designe, social|media|ma, senior|software|enginee, junior|marketing|coordinato, business|intelligence|analys, senior|project|coordinato, accountan, marketing|coordinato, copywrite, event|coordinato, director|of|sales|and|marketin, junior|web|develope, junior|account|manage, ux|researche, junior|social|media|specialis, director|of|data|scienc, director|of|human|capita, marketing|specialis, financial|analys, digital|content|produce, financial|adviso, junior|financial|analys, junior|copywrite, director|of|engineerin, principal|scientis, customer|success|re, senior|marketing|manage, senior|operations|coordinato, business|analys, senior|product|marketing|manage, junior|operations|analys, sales|associat, senior|sales|representativ, junior|marketing|analys, software|manage, junior|develope, web|develope, senior|training|specialis, software|develope, senior|business|development|manage, technical|support|specialis, junior|research|scientis, senior|hr|specialis, customer|success|manage, social|media|specialis, senior|manage, senior|sales|manage, junior|accountan, senior|enginee, senior|operations|analys, director|of|marketin, junior|hr|coordinato, marketing|directo, marketing|analys, senior|financial|analys, sales|representativ, full|stack|enginee, content|marketing|manage, senior|business|analys, operations|directo, junior|product|manage, senior|financial|manage, junior|sales|representativ, junior|social|media|manage, vp|of|financ, administrative|assistan, data|entry|cler, help|desk|analys, senior|it|consultan, front|end|develope, operations|manage, junior|ux|designe, recruite, junior|data|analys, senior|human|resources|manage, senior|marketing|directo, vp|of|operation, junior|recruite, operations|analys, it|support|specialis, director|of|human|resource, it|manage, director|of|sale, business|development|manage, junior|customer|support|specialis, junior|marketing|manage, junior|financial|adviso, software|project|manage, director|of|operation, research|scientis, public|relations|manage, ce, junior|business|analys, product|marketing|manage, hr|generalis, senior|human|resources|coordinato, junior|hr|generalis, human|resources|coordinato, director|of|financ, senior|financial|adviso, senior|data|enginee, senior|data|analys, back|end|develope, junior|data|scientis, project|manage, financial|manage, senior|marketing|specialis, human|resources|directo, sales|directo, customer|service|re, data|scientis, network|enginee, junior|business|operations|analys, senior|data|scientis, junior|project|manage, marketing|manage, senior|product|designe, directo, senior|it|support|specialis, senior|product|development|manage, software|enginee, software|engineer|manage, senior|marketing|analys, senior|hr|generalis, creative|directo, product|designe, chief|technology|office, juniour|hr|generalis, senior|graphic|designe, data|analys, ux|designe, senior|product|manage, junior|software|enginee, supply|chain|manage, senior|operations|manage, social|media|manage, senior|hr|manage, research|directo, account|manage, junior|sales|associat, sales|executiv, customer|service|representativ, junior|marketing|specialis, customer|service|manage, senior|marketing|coordinato, digital|marketing|manage, human|resources|manage, junior|software|develope, director|of|h, delivery|drive, senior|research|scientis, graphic|designe, technical|write, hr|manage, junior|operations|manage, senior|accountan\n",
      "--------------------------------------------------\n",
      "Unique values in Country:\n",
      "chin, canad, us, australi, u\n",
      "--------------------------------------------------\n",
      "Unique values in Race:\n",
      "Mixed, African American, Hispanic, Asian, White, Australian, Black, Korean, Welsh, Chinese\n",
      "--------------------------------------------------\n"
     ]
    }
   ],
   "source": [
    "# Columns of interest\n",
    "object_columns = ['Gender', 'Education Level', 'Job Title', 'Country', 'Race']\n",
    "\n",
    "# Loop through and print unique values\n",
    "for column in object_columns:\n",
    "    unique_values = set(X_train[column])\n",
    "    print(f\"Unique values in {column}:\")\n",
    "    print(\", \".join([str(x) for x in unique_values]))\n",
    "    print('-' * 50)"
   ]
  },
  {
   "cell_type": "code",
   "execution_count": 72,
   "metadata": {},
   "outputs": [
    {
     "name": "stdout",
     "output_type": "stream",
     "text": [
      "12\n"
     ]
    }
   ],
   "source": [
    "# Consider dropping those rows\n",
    "rows_with_O = X_train[X_train['Gender'] == 'O']\n",
    "print(len(rows_with_O))"
   ]
  },
  {
   "cell_type": "code",
   "execution_count": 75,
   "metadata": {},
   "outputs": [
    {
     "data": {
      "text/html": [
       "<div>\n",
       "<style scoped>\n",
       "    .dataframe tbody tr th:only-of-type {\n",
       "        vertical-align: middle;\n",
       "    }\n",
       "\n",
       "    .dataframe tbody tr th {\n",
       "        vertical-align: top;\n",
       "    }\n",
       "\n",
       "    .dataframe thead th {\n",
       "        text-align: right;\n",
       "    }\n",
       "</style>\n",
       "<table border=\"1\" class=\"dataframe\">\n",
       "  <thead>\n",
       "    <tr style=\"text-align: right;\">\n",
       "      <th></th>\n",
       "      <th>Age</th>\n",
       "      <th>Years of Experience</th>\n",
       "      <th>height</th>\n",
       "      <th>weight</th>\n",
       "      <th>id</th>\n",
       "      <th>professionalism</th>\n",
       "    </tr>\n",
       "  </thead>\n",
       "  <tbody>\n",
       "    <tr>\n",
       "      <th>count</th>\n",
       "      <td>5355.000000</td>\n",
       "      <td>5355.000000</td>\n",
       "      <td>5355.000000</td>\n",
       "      <td>5355.000000</td>\n",
       "      <td>5355.000000</td>\n",
       "      <td>5355.000000</td>\n",
       "    </tr>\n",
       "    <tr>\n",
       "      <th>mean</th>\n",
       "      <td>35.151634</td>\n",
       "      <td>9.620448</td>\n",
       "      <td>2.002327</td>\n",
       "      <td>66.899744</td>\n",
       "      <td>3364.586368</td>\n",
       "      <td>316.499627</td>\n",
       "    </tr>\n",
       "    <tr>\n",
       "      <th>std</th>\n",
       "      <td>7.616544</td>\n",
       "      <td>6.077945</td>\n",
       "      <td>0.292174</td>\n",
       "      <td>18.166318</td>\n",
       "      <td>1932.868068</td>\n",
       "      <td>305.097897</td>\n",
       "    </tr>\n",
       "    <tr>\n",
       "      <th>min</th>\n",
       "      <td>22.000000</td>\n",
       "      <td>1.000000</td>\n",
       "      <td>1.500276</td>\n",
       "      <td>13.637206</td>\n",
       "      <td>4.000000</td>\n",
       "      <td>0.000000</td>\n",
       "    </tr>\n",
       "    <tr>\n",
       "      <th>25%</th>\n",
       "      <td>29.000000</td>\n",
       "      <td>5.000000</td>\n",
       "      <td>1.750666</td>\n",
       "      <td>53.893328</td>\n",
       "      <td>1694.500000</td>\n",
       "      <td>84.000000</td>\n",
       "    </tr>\n",
       "    <tr>\n",
       "      <th>50%</th>\n",
       "      <td>33.000000</td>\n",
       "      <td>8.000000</td>\n",
       "      <td>2.000633</td>\n",
       "      <td>64.747191</td>\n",
       "      <td>3366.000000</td>\n",
       "      <td>217.000000</td>\n",
       "    </tr>\n",
       "    <tr>\n",
       "      <th>75%</th>\n",
       "      <td>39.000000</td>\n",
       "      <td>13.000000</td>\n",
       "      <td>2.261611</td>\n",
       "      <td>78.370881</td>\n",
       "      <td>5044.500000</td>\n",
       "      <td>451.000000</td>\n",
       "    </tr>\n",
       "    <tr>\n",
       "      <th>max</th>\n",
       "      <td>64.000000</td>\n",
       "      <td>36.000000</td>\n",
       "      <td>2.499932</td>\n",
       "      <td>139.997724</td>\n",
       "      <td>6703.000000</td>\n",
       "      <td>2040.000000</td>\n",
       "    </tr>\n",
       "  </tbody>\n",
       "</table>\n",
       "</div>"
      ],
      "text/plain": [
       "               Age  Years of Experience       height       weight  \\\n",
       "count  5355.000000          5355.000000  5355.000000  5355.000000   \n",
       "mean     35.151634             9.620448     2.002327    66.899744   \n",
       "std       7.616544             6.077945     0.292174    18.166318   \n",
       "min      22.000000             1.000000     1.500276    13.637206   \n",
       "25%      29.000000             5.000000     1.750666    53.893328   \n",
       "50%      33.000000             8.000000     2.000633    64.747191   \n",
       "75%      39.000000            13.000000     2.261611    78.370881   \n",
       "max      64.000000            36.000000     2.499932   139.997724   \n",
       "\n",
       "                id  professionalism  \n",
       "count  5355.000000      5355.000000  \n",
       "mean   3364.586368       316.499627  \n",
       "std    1932.868068       305.097897  \n",
       "min       4.000000         0.000000  \n",
       "25%    1694.500000        84.000000  \n",
       "50%    3366.000000       217.000000  \n",
       "75%    5044.500000       451.000000  \n",
       "max    6703.000000      2040.000000  "
      ]
     },
     "execution_count": 75,
     "metadata": {},
     "output_type": "execute_result"
    }
   ],
   "source": [
    "# X_train.describe()"
   ]
  },
  {
   "cell_type": "code",
   "execution_count": 78,
   "metadata": {},
   "outputs": [],
   "source": [
    "# \n"
   ]
  }
 ],
 "metadata": {
  "kernelspec": {
   "display_name": "Python 3",
   "language": "python",
   "name": "python3"
  },
  "language_info": {
   "codemirror_mode": {
    "name": "ipython",
    "version": 3
   },
   "file_extension": ".py",
   "mimetype": "text/x-python",
   "name": "python",
   "nbconvert_exporter": "python",
   "pygments_lexer": "ipython3",
   "version": "3.8.5"
  }
 },
 "nbformat": 4,
 "nbformat_minor": 4
}
