{
 "cells": [
  {
   "cell_type": "code",
   "execution_count": 66,
   "metadata": {
    "id": "FFO1QvxQlnPz"
   },
   "outputs": [],
   "source": [
    "import pandas as pd\n",
    "import json\n",
    "import numpy as np\n",
    "\n",
    "def csv_drive_path_generatoer(url:str):\n",
    " '''\n",
    " Help in read csv file directly from google drive.\n",
    " Make sure the csv format is standard.\n",
    " url:str - path to csv file example:\n",
    "   url = 'https://drive.google.com/file/d/126JPZ3lYwdLyJ2d_7jxM9jMtZaOlF-Ld/view?usp=sharing'\n",
    " return : str\n",
    " '''\n",
    " path = 'https://drive.google.com/uc?export=download&id='+url.split('/')[-2]\n",
    " return path"
   ]
  },
  {
   "cell_type": "markdown",
   "metadata": {
    "id": "h4eBpzpbOtCq"
   },
   "source": [
    "# Y Actual"
   ]
  },
  {
   "cell_type": "code",
   "execution_count": 67,
   "metadata": {
    "colab": {
     "base_uri": "https://localhost:8080/",
     "height": 206
    },
    "id": "aDQ7p-qLol1K",
    "outputId": "d99072ef-f5dc-46ff-d40a-6e2630340404"
   },
   "outputs": [
    {
     "data": {
      "text/html": [
       "<div>\n",
       "<style scoped>\n",
       "    .dataframe tbody tr th:only-of-type {\n",
       "        vertical-align: middle;\n",
       "    }\n",
       "\n",
       "    .dataframe tbody tr th {\n",
       "        vertical-align: top;\n",
       "    }\n",
       "\n",
       "    .dataframe thead th {\n",
       "        text-align: right;\n",
       "    }\n",
       "</style>\n",
       "<table border=\"1\" class=\"dataframe\">\n",
       "  <thead>\n",
       "    <tr style=\"text-align: right;\">\n",
       "      <th></th>\n",
       "      <th>id</th>\n",
       "      <th>Salary</th>\n",
       "    </tr>\n",
       "  </thead>\n",
       "  <tbody>\n",
       "    <tr>\n",
       "      <th>0</th>\n",
       "      <td>3771</td>\n",
       "      <td>25465.0</td>\n",
       "    </tr>\n",
       "    <tr>\n",
       "      <th>1</th>\n",
       "      <td>6595</td>\n",
       "      <td>166574.0</td>\n",
       "    </tr>\n",
       "    <tr>\n",
       "      <th>2</th>\n",
       "      <td>4915</td>\n",
       "      <td>70862.0</td>\n",
       "    </tr>\n",
       "    <tr>\n",
       "      <th>3</th>\n",
       "      <td>4925</td>\n",
       "      <td>65465.0</td>\n",
       "    </tr>\n",
       "    <tr>\n",
       "      <th>4</th>\n",
       "      <td>4827</td>\n",
       "      <td>190465.0</td>\n",
       "    </tr>\n",
       "  </tbody>\n",
       "</table>\n",
       "</div>"
      ],
      "text/plain": [
       "     id    Salary\n",
       "0  3771   25465.0\n",
       "1  6595  166574.0\n",
       "2  4915   70862.0\n",
       "3  4925   65465.0\n",
       "4  4827  190465.0"
      ]
     },
     "execution_count": 67,
     "metadata": {},
     "output_type": "execute_result"
    }
   ],
   "source": [
    "path = csv_drive_path_generatoer('https://drive.google.com/file/d/1VE2UuFClIj8IMn7yMxlnh6qj1wLi-zPh/view?usp=sharing')\n",
    "y_test_actual = pd.read_csv(path,index_col=[0] )\n",
    "y_test_actual.head()"
   ]
  },
  {
   "cell_type": "markdown",
   "metadata": {
    "id": "QEYkFzZjOxe3"
   },
   "source": [
    "# Y pred"
   ]
  },
  {
   "cell_type": "code",
   "execution_count": 68,
   "metadata": {
    "id": "6uYlTUvsO70s"
   },
   "outputs": [],
   "source": [
    "with open('predictions.json') as json_file:\n",
    "    y_test_pred = json.load(json_file)"
   ]
  },
  {
   "cell_type": "code",
   "execution_count": 69,
   "metadata": {},
   "outputs": [],
   "source": [
    "# len(y_test_pred) # 1341\n",
    "# len(y_test_actual) # 1341"
   ]
  },
  {
   "cell_type": "code",
   "execution_count": 70,
   "metadata": {},
   "outputs": [],
   "source": [
    "# y_test_pred"
   ]
  },
  {
   "cell_type": "code",
   "execution_count": 71,
   "metadata": {},
   "outputs": [],
   "source": [
    "# y_test_actual"
   ]
  },
  {
   "cell_type": "markdown",
   "metadata": {
    "id": "6_-nik60TylZ"
   },
   "source": [
    "# Test"
   ]
  },
  {
   "cell_type": "markdown",
   "metadata": {
    "id": "0HJDCKvUWxBz"
   },
   "source": [
    "#### ids"
   ]
  },
  {
   "cell_type": "code",
   "execution_count": 72,
   "metadata": {
    "colab": {
     "base_uri": "https://localhost:8080/"
    },
    "id": "O3lHhMbNTq0f",
    "outputId": "e4e9cfdc-0f9b-4b33-a35f-fd18824f27d6"
   },
   "outputs": [
    {
     "name": "stdout",
     "output_type": "stream",
     "text": [
      "All ids exists and valid\n"
     ]
    }
   ],
   "source": [
    "if sorted([int(i) for i in list(y_test_pred.keys())]) == sorted(y_test_actual.id.tolist()):\n",
    "  print(\"All ids exists and valid\")\n",
    "else:\n",
    "  print(\"make sure there is no missing ids and the ids are in the right foramt (for example: 123.0 not valid, 123 valid)\")"
   ]
  },
  {
   "cell_type": "markdown",
   "metadata": {
    "id": "inWsPLYHXPYH"
   },
   "source": [
    "Salary"
   ]
  },
  {
   "cell_type": "code",
   "execution_count": 73,
   "metadata": {
    "colab": {
     "base_uri": "https://localhost:8080/"
    },
    "id": "N6MQURYcYAM8",
    "outputId": "2e2b5b89-785f-4280-806a-51fb1a7f7d2d"
   },
   "outputs": [
    {
     "name": "stdout",
     "output_type": "stream",
     "text": [
      "valid predictions\n"
     ]
    }
   ],
   "source": [
    "import numbers\n",
    "valid_predictions = len([1 for x in y_test_pred.values() if not isinstance(x, numbers.Number) ]) == 0\n",
    "\n",
    "if valid_predictions:\n",
    "  print(\"valid predictions\")\n",
    "else:\n",
    "  print(\"not valid predictions, make sure there is no Nones strings or other not a number preditions values foramt\")"
   ]
  },
  {
   "cell_type": "markdown",
   "metadata": {
    "id": "Bnq82mVPZIv5"
   },
   "source": [
    "# RMSE"
   ]
  },
  {
   "cell_type": "code",
   "execution_count": null,
   "metadata": {
    "id": "TFa01QDNbjmc"
   },
   "outputs": [],
   "source": []
  },
  {
   "cell_type": "code",
   "execution_count": 74,
   "metadata": {
    "colab": {
     "base_uri": "https://localhost:8080/"
    },
    "id": "asldEpVcYcyp",
    "outputId": "e65908ab-635e-488d-f43d-e855ebb3f4c4"
   },
   "outputs": [
    {
     "name": "stdout",
     "output_type": "stream",
     "text": [
      "Final rmse is 2428867.820919889\n"
     ]
    }
   ],
   "source": [
    "mse = 0\n",
    "for k,v in y_test_pred.items():\n",
    "  mse += (v - y_test_actual.Salary[y_test_actual.id == int(k)].values[0])**2\n",
    "\n",
    "rmse = mse ** 0.5\n",
    "\n",
    "is_bonus = True\n",
    "rmse = rmse * 0.95 if is_bonus else rmse\n",
    "print(f\"Final rmse is {rmse}\")"
   ]
  },
  {
   "cell_type": "code",
   "execution_count": null,
   "metadata": {
    "id": "isXR0_fEa0Rc"
   },
   "outputs": [],
   "source": []
  }
 ],
 "metadata": {
  "colab": {
   "provenance": []
  },
  "kernelspec": {
   "display_name": "Python 3 (ipykernel)",
   "language": "python",
   "name": "python3"
  },
  "language_info": {
   "codemirror_mode": {
    "name": "ipython",
    "version": 3
   },
   "file_extension": ".py",
   "mimetype": "text/x-python",
   "name": "python",
   "nbconvert_exporter": "python",
   "pygments_lexer": "ipython3",
   "version": "3.11.5"
  }
 },
 "nbformat": 4,
 "nbformat_minor": 4
}
